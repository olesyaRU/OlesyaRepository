{
  "cells": [
    {
      "cell_type": "markdown",
      "metadata": {
        "id": "view-in-github",
        "colab_type": "text"
      },
      "source": [
        "<a href=\"https://colab.research.google.com/github/olesyaRU/OlesyaRepository/blob/main/sf_python2_1.ipynb\" target=\"_parent\"><img src=\"https://colab.research.google.com/assets/colab-badge.svg\" alt=\"Open In Colab\"/></a>"
      ]
    },
    {
      "cell_type": "markdown",
      "id": "87dec23c",
      "metadata": {
        "id": "87dec23c"
      },
      "source": [
        "# Программирование на Python\n",
        "## Семинар 2. Погружение в типы данных\n",
        "#### Задача 1\n",
        "На вход подается предложение. Удалите из него специальные символы (',', '.', ';', '!', '?') и выведите для пользователя количество уникальных слов. Регистр букв не должен влиять на результат."
      ]
    },
    {
      "cell_type": "code",
      "source": [],
      "metadata": {
        "id": "n0Q0h-UX7H-v"
      },
      "id": "n0Q0h-UX7H-v",
      "execution_count": null,
      "outputs": []
    },
    {
      "cell_type": "code",
      "execution_count": null,
      "id": "90a0a3ab",
      "metadata": {
        "id": "90a0a3ab",
        "outputId": "1b16bfb9-a38f-479d-cf15-12229cdb65a5"
      },
      "outputs": [
        {
          "name": "stdin",
          "output_type": "stream",
          "text": [
            " 111, 55555; 55555\n"
          ]
        },
        {
          "name": "stdout",
          "output_type": "stream",
          "text": [
            "2\n"
          ]
        }
      ],
      "source": [
        "sentence = input().lower()\n",
        "\n",
        "sentence_clean = sentence.replace(',', '').replace('.', '').replace(';', '').replace('!', '').replace('?', '')\n",
        "\n",
        "sentence_words = set(sentence_clean.split())\n",
        "\n",
        "print(len(sentence_words))"
      ]
    },
    {
      "cell_type": "code",
      "execution_count": null,
      "id": "68f3794e-040f-4aea-bd5b-6136c360cd76",
      "metadata": {
        "id": "68f3794e-040f-4aea-bd5b-6136c360cd76",
        "outputId": "109b53ce-053d-4b79-fbd4-6a6c7244b6de"
      },
      "outputs": [
        {
          "data": {
            "text/plain": [
              "{'word', 'word2'}"
            ]
          },
          "execution_count": 7,
          "metadata": {},
          "output_type": "execute_result"
        }
      ],
      "source": [
        "set(['word', 'word2', 'word2'])"
      ]
    },
    {
      "cell_type": "code",
      "execution_count": null,
      "id": "477227db-4aaf-4ed3-9617-f146c8c286e9",
      "metadata": {
        "id": "477227db-4aaf-4ed3-9617-f146c8c286e9",
        "outputId": "e5d5f89e-c506-4c40-d221-d118705f1d9f"
      },
      "outputs": [
        {
          "data": {
            "text/plain": [
              "['8', '8']"
            ]
          },
          "execution_count": 1,
          "metadata": {},
          "output_type": "execute_result"
        }
      ],
      "source": [
        "'8   8'.split()"
      ]
    },
    {
      "cell_type": "code",
      "execution_count": null,
      "id": "1b8c7a53-f5ca-492d-a7f9-d280edb3d57e",
      "metadata": {
        "id": "1b8c7a53-f5ca-492d-a7f9-d280edb3d57e",
        "outputId": "a4163b58-94c2-41a2-8250-cc68f1c60694"
      },
      "outputs": [
        {
          "data": {
            "text/plain": [
              "['8', '8']"
            ]
          },
          "execution_count": 3,
          "metadata": {},
          "output_type": "execute_result"
        }
      ],
      "source": [
        "'8   8'.split(sep=None)"
      ]
    },
    {
      "cell_type": "code",
      "execution_count": null,
      "id": "30a88052-6a8c-4b3d-9a3c-aa4da2520bed",
      "metadata": {
        "id": "30a88052-6a8c-4b3d-9a3c-aa4da2520bed",
        "outputId": "5a6a7b5d-3c7c-497c-b2df-dfbb0c2ac637"
      },
      "outputs": [
        {
          "data": {
            "text/plain": [
              "['8', '', '', '8']"
            ]
          },
          "execution_count": 2,
          "metadata": {},
          "output_type": "execute_result"
        }
      ],
      "source": [
        "'8   8'.split(sep=' ')"
      ]
    },
    {
      "cell_type": "code",
      "execution_count": null,
      "id": "61f1c5c5-8115-4c06-b18c-7b6d42614193",
      "metadata": {
        "id": "61f1c5c5-8115-4c06-b18c-7b6d42614193",
        "outputId": "e6456fe6-c5cf-401f-8d65-0389883f4861"
      },
      "outputs": [
        {
          "data": {
            "text/plain": [
              "\u001b[0;31mSignature:\u001b[0m \u001b[0mstr\u001b[0m\u001b[0;34m.\u001b[0m\u001b[0msplit\u001b[0m\u001b[0;34m(\u001b[0m\u001b[0mself\u001b[0m\u001b[0;34m,\u001b[0m \u001b[0;34m/\u001b[0m\u001b[0;34m,\u001b[0m \u001b[0msep\u001b[0m\u001b[0;34m=\u001b[0m\u001b[0;32mNone\u001b[0m\u001b[0;34m,\u001b[0m \u001b[0mmaxsplit\u001b[0m\u001b[0;34m=\u001b[0m\u001b[0;34m-\u001b[0m\u001b[0;36m1\u001b[0m\u001b[0;34m)\u001b[0m\u001b[0;34m\u001b[0m\u001b[0;34m\u001b[0m\u001b[0m\n",
              "\u001b[0;31mDocstring:\u001b[0m\n",
              "Return a list of the substrings in the string, using sep as the separator string.\n",
              "\n",
              "  sep\n",
              "    The separator used to split the string.\n",
              "\n",
              "    When set to None (the default value), will split on any whitespace\n",
              "    character (including \\n \\r \\t \\f and spaces) and will discard\n",
              "    empty strings from the result.\n",
              "  maxsplit\n",
              "    Maximum number of splits (starting from the left).\n",
              "    -1 (the default value) means no limit.\n",
              "\n",
              "Note, str.split() is mainly useful for data that has been intentionally\n",
              "delimited.  With natural text that includes punctuation, consider using\n",
              "the regular expression module.\n",
              "\u001b[0;31mType:\u001b[0m      method_descriptor"
            ]
          },
          "metadata": {},
          "output_type": "display_data"
        }
      ],
      "source": [
        "?str.split"
      ]
    },
    {
      "cell_type": "markdown",
      "id": "c384bd56",
      "metadata": {
        "id": "c384bd56"
      },
      "source": [
        "#### Задача 2\n",
        "\n",
        "Дана строка, в которой буква h встречается как минимум два раза. Разверните последовательность символов, заключенную между первым и последним появлением буквы h, в противоположном порядке (при этом остальную часть строки оставить неизменной).\n",
        "\n",
        "`jahafdhi` -> `jahdfahi`\n",
        "\n",
        "Вариант 1"
      ]
    },
    {
      "cell_type": "code",
      "execution_count": null,
      "id": "70ea4d29-3045-4a31-bf8e-ff3f92de0582",
      "metadata": {
        "id": "70ea4d29-3045-4a31-bf8e-ff3f92de0582",
        "outputId": "807390fa-7ba0-43b3-bbf2-399d5c57a778"
      },
      "outputs": [
        {
          "name": "stdout",
          "output_type": "stream",
          "text": [
            "jahdfhahi\n"
          ]
        }
      ],
      "source": [
        "string = 'jahahfdhi'\n",
        "\n",
        "start_index = string.find('h') + 1\n",
        "finish_index = string.rfind('h')\n",
        "\n",
        "middle = string[start_index:finish_index][::-1]\n",
        "left_part = string[:start_index]\n",
        "right_part = string[finish_index:]\n",
        "\n",
        "print(left_part + middle + right_part)"
      ]
    },
    {
      "cell_type": "code",
      "execution_count": null,
      "id": "c5a30999-7b54-4958-a0ca-a7fa4cf91873",
      "metadata": {
        "id": "c5a30999-7b54-4958-a0ca-a7fa4cf91873",
        "outputId": "dfe7fb3b-9023-4a7a-dc13-a0ccf1198a9f"
      },
      "outputs": [
        {
          "name": "stdout",
          "output_type": "stream",
          "text": [
            "jahdfhahi\n"
          ]
        }
      ],
      "source": [
        "print(left_part, middle, right_part, sep='')"
      ]
    },
    {
      "cell_type": "markdown",
      "id": "cacef5de-35ce-40bc-9559-131360b1f457",
      "metadata": {
        "id": "cacef5de-35ce-40bc-9559-131360b1f457"
      },
      "source": [
        "Вариант 2"
      ]
    },
    {
      "cell_type": "code",
      "execution_count": null,
      "id": "00d7b322-b507-4170-ae0f-ed6709bee266",
      "metadata": {
        "id": "00d7b322-b507-4170-ae0f-ed6709bee266",
        "outputId": "6081e517-4a5b-4602-cb8f-c1a9720a08a0"
      },
      "outputs": [
        {
          "name": "stdout",
          "output_type": "stream",
          "text": [
            "jahdfhahi\n"
          ]
        }
      ],
      "source": [
        "string = 'jahahfdhi'\n",
        "\n",
        "start_index = string.find('h')\n",
        "finish_index = string.rfind('h') - 1\n",
        "\n",
        "middle = string[finish_index:start_index:-1]\n",
        "left_part = string[:(start_index + 1)]\n",
        "right_part = string[(finish_index + 1):]\n",
        "\n",
        "print(left_part + middle + right_part)"
      ]
    },
    {
      "cell_type": "markdown",
      "id": "fbdd28ca-d50c-40f9-9034-1dc59812de08",
      "metadata": {
        "id": "fbdd28ca-d50c-40f9-9034-1dc59812de08"
      },
      "source": [
        "Вариант 3"
      ]
    },
    {
      "cell_type": "code",
      "execution_count": null,
      "id": "c2ab63bc-c153-4b1f-a44c-2af321afe618",
      "metadata": {
        "id": "c2ab63bc-c153-4b1f-a44c-2af321afe618"
      },
      "outputs": [],
      "source": [
        "string = 'jahahfdhi'\n",
        "\n",
        "start_index = string.find('h') + 1\n",
        "finish_index = string.rfind('h')\n",
        "\n",
        "middle = string[start_index:finish_index]\n",
        "middle = ''.join(list(reversed(middle)))\n",
        "\n",
        "left_part = string[:start_index]\n",
        "right_part = string[finish_index:]\n",
        "\n",
        "print(left_part + middle + right_part)"
      ]
    },
    {
      "cell_type": "markdown",
      "id": "c1fbd351-7f48-4bf9-a0c6-07a63cc63391",
      "metadata": {
        "id": "c1fbd351-7f48-4bf9-a0c6-07a63cc63391"
      },
      "source": [
        "Вариант 4"
      ]
    },
    {
      "cell_type": "code",
      "execution_count": null,
      "id": "8a824a1a-2b0d-4e5a-b01b-581688d41a5b",
      "metadata": {
        "id": "8a824a1a-2b0d-4e5a-b01b-581688d41a5b"
      },
      "outputs": [],
      "source": [
        "string = 'jahahfdhi'\n",
        "\n",
        "start_index = string.find('h') + 1\n",
        "finish_index = len(string) - string[::-1].rfind('h') - 1\n",
        "\n",
        "middle = string[start_index:finish_index][::-1]\n",
        "left_part = string[:start_index]\n",
        "right_part = string[finish_index:]\n",
        "\n",
        "print(left_part + middle + right_part)"
      ]
    },
    {
      "cell_type": "code",
      "execution_count": null,
      "id": "90f4b61a-06bb-4ad6-a9b8-6852ff11cdd2",
      "metadata": {
        "id": "90f4b61a-06bb-4ad6-a9b8-6852ff11cdd2",
        "outputId": "07ca2c14-4653-4eb9-89ea-66efa25279d8"
      },
      "outputs": [
        {
          "data": {
            "text/plain": [
              "\u001b[0;31mDocstring:\u001b[0m\n",
              "S.find(sub[, start[, end]]) -> int\n",
              "\n",
              "Return the lowest index in S where substring sub is found,\n",
              "such that sub is contained within S[start:end].  Optional\n",
              "arguments start and end are interpreted as in slice notation.\n",
              "\n",
              "Return -1 on failure.\n",
              "\u001b[0;31mType:\u001b[0m      method_descriptor"
            ]
          },
          "metadata": {},
          "output_type": "display_data"
        }
      ],
      "source": [
        "?str.find"
      ]
    },
    {
      "cell_type": "code",
      "execution_count": null,
      "id": "c6d53d2d-6e95-4453-bb75-a252a479b64e",
      "metadata": {
        "id": "c6d53d2d-6e95-4453-bb75-a252a479b64e",
        "outputId": "e33a68dd-820b-4660-f74e-4016c59b6c18"
      },
      "outputs": [
        {
          "data": {
            "text/plain": [
              "'ahfd'"
            ]
          },
          "execution_count": 36,
          "metadata": {},
          "output_type": "execute_result"
        }
      ],
      "source": [
        "middle"
      ]
    },
    {
      "cell_type": "code",
      "execution_count": null,
      "id": "2974f31e-1457-4197-b0ea-0efbd41d8b30",
      "metadata": {
        "id": "2974f31e-1457-4197-b0ea-0efbd41d8b30",
        "outputId": "e301ca6f-e4b6-4168-84c1-5021f706fc0b"
      },
      "outputs": [
        {
          "data": {
            "text/plain": [
              "4"
            ]
          },
          "execution_count": 53,
          "metadata": {},
          "output_type": "execute_result"
        }
      ],
      "source": [
        "len(middle)"
      ]
    },
    {
      "cell_type": "code",
      "execution_count": null,
      "id": "32e33648-66b9-4ad2-9149-147c240d030f",
      "metadata": {
        "id": "32e33648-66b9-4ad2-9149-147c240d030f",
        "outputId": "64b1bb34-9032-4c2c-d152-cda7e6798ea5"
      },
      "outputs": [
        {
          "data": {
            "text/plain": [
              "<reversed at 0x110d41b70>"
            ]
          },
          "execution_count": 39,
          "metadata": {},
          "output_type": "execute_result"
        }
      ],
      "source": [
        "reversed(middle)"
      ]
    },
    {
      "cell_type": "code",
      "execution_count": null,
      "id": "91ff3d80-88d5-4017-b046-1e2c4493ab69",
      "metadata": {
        "id": "91ff3d80-88d5-4017-b046-1e2c4493ab69",
        "outputId": "eb9fd9ac-5b00-44fb-e860-9aae364b0a74"
      },
      "outputs": [
        {
          "data": {
            "text/plain": [
              "['d', 'f', 'h', 'a']"
            ]
          },
          "execution_count": 42,
          "metadata": {},
          "output_type": "execute_result"
        }
      ],
      "source": [
        "list(reversed(middle))"
      ]
    },
    {
      "cell_type": "code",
      "execution_count": null,
      "id": "27ac4ff2-1431-46da-8ebb-77d400a27fb8",
      "metadata": {
        "id": "27ac4ff2-1431-46da-8ebb-77d400a27fb8",
        "outputId": "bb810c10-cf35-43ee-fb7e-c30b2ad71903"
      },
      "outputs": [
        {
          "data": {
            "text/plain": [
              "('d', 'f', 'h', 'a')"
            ]
          },
          "execution_count": 52,
          "metadata": {},
          "output_type": "execute_result"
        }
      ],
      "source": [
        "tuple(reversed(middle))"
      ]
    },
    {
      "cell_type": "code",
      "execution_count": null,
      "id": "d70c1ee5-7fda-4628-b966-75ce4afc873f",
      "metadata": {
        "id": "d70c1ee5-7fda-4628-b966-75ce4afc873f",
        "outputId": "287f4cc1-8629-493a-a6f2-917deb3bc138"
      },
      "outputs": [
        {
          "data": {
            "text/plain": [
              "'1;2;3'"
            ]
          },
          "execution_count": 48,
          "metadata": {},
          "output_type": "execute_result"
        }
      ],
      "source": [
        "';'.join('1,2,3'.split(','))"
      ]
    },
    {
      "cell_type": "code",
      "execution_count": null,
      "id": "223e6da9-10d0-4f18-b825-94ba575c91d6",
      "metadata": {
        "id": "223e6da9-10d0-4f18-b825-94ba575c91d6",
        "outputId": "bb3b4ce5-b239-4d87-b02e-f064389edba8"
      },
      "outputs": [
        {
          "data": {
            "text/plain": [
              "'d                    f                    h                    a'"
            ]
          },
          "execution_count": 51,
          "metadata": {},
          "output_type": "execute_result"
        }
      ],
      "source": [
        "' '.join(list(reversed(middle)))"
      ]
    },
    {
      "cell_type": "code",
      "execution_count": null,
      "id": "99fdee3c-4d9f-4113-9cde-dde3d5242fa2",
      "metadata": {
        "id": "99fdee3c-4d9f-4113-9cde-dde3d5242fa2",
        "outputId": "ef733fc9-efc9-4fbf-e8ab-70fb982ea580"
      },
      "outputs": [
        {
          "data": {
            "text/plain": [
              "\u001b[0;31mDocstring:\u001b[0m\n",
              "S.rfind(sub[, start[, end]]) -> int\n",
              "\n",
              "Return the highest index in S where substring sub is found,\n",
              "such that sub is contained within S[start:end].  Optional\n",
              "arguments start and end are interpreted as in slice notation.\n",
              "\n",
              "Return -1 on failure.\n",
              "\u001b[0;31mType:\u001b[0m      method_descriptor"
            ]
          },
          "metadata": {},
          "output_type": "display_data"
        }
      ],
      "source": [
        "?str.rfind"
      ]
    },
    {
      "cell_type": "markdown",
      "id": "0816928b-92bd-48e3-836f-02b79f5c76f2",
      "metadata": {
        "id": "0816928b-92bd-48e3-836f-02b79f5c76f2"
      },
      "source": [
        "#### Задача 3\n",
        "Напишите программу, которая принимает на вход слово на русском языке и проверяет, является ли оно палиндромом (если палиндром - сообщение пользователю, то же самое в ином случае). Case буквы не должен влиять на результат."
      ]
    },
    {
      "cell_type": "code",
      "execution_count": null,
      "id": "eb8d20dd-599e-4a2c-bd4b-1e6a379dd2ba",
      "metadata": {
        "id": "eb8d20dd-599e-4a2c-bd4b-1e6a379dd2ba"
      },
      "outputs": [],
      "source": [
        "# наш код здесь"
      ]
    },
    {
      "cell_type": "markdown",
      "id": "bf8372e2-231d-4841-8ecc-056898fff8fe",
      "metadata": {
        "id": "bf8372e2-231d-4841-8ecc-056898fff8fe"
      },
      "source": [
        "#### Задача 4\n",
        "Мы имеем словарь, в котором ключами являются идентификаторы испытуемых, а значениями - показатели датчиков за 10 дней. Нужно получить такой же словарь, но с числами (или с нулем вместо `'error'`)."
      ]
    },
    {
      "cell_type": "code",
      "execution_count": null,
      "id": "3ecc18b4-bb0a-48f0-9616-861312bc5c92",
      "metadata": {
        "id": "3ecc18b4-bb0a-48f0-9616-861312bc5c92"
      },
      "outputs": [],
      "source": [
        "data = {\n",
        "    'patient1': ['-2.47', '10.414', '-20.147', '71.253', '6.184', '18.686', '14.767', '8.407', '49.355', '17.055'],\n",
        "    'patient2': ['-11.368', '71.067', '-31.519', 'error', '12.197', '-23.183', '28.052', '21.437', '19.261', '67.036'],\n",
        "    'patient3': ['-44.866', '-42.591', '32.409', '62.916', '23.356', 'error', '-52.277', '-20.885', '21.307', '10.846'],\n",
        "    'patient4': ['-50.765', 'error', '-26.627', 'error', '6.523', '11.412', 'error', '40.828', '-21.127', '-11.693'],\n",
        "    'patient5': ['5.076', '91.697', '-47.169', '-21.875', '-52.227', '20.551', '30.118', '-0.114', '25.138', '-21.818'],\n",
        "    'patient6': ['-15.347', '-27.504', '-33.92', '-45.092', '-23.837', '-15.655', '-43.795', '30.521', '68.682', '18.174'],\n",
        "    'patient7': ['4.825', '-22.918', 'error', '16.429', 'error', '15.604', '-27.403', 'error', '7.14', '26.587']\n",
        "}\n",
        "\n",
        "# наш код здесь"
      ]
    },
    {
      "cell_type": "markdown",
      "id": "c64fe841-f057-4a85-9b65-ed377193bc9a",
      "metadata": {
        "id": "c64fe841-f057-4a85-9b65-ed377193bc9a"
      },
      "source": [
        "#### Задача 5\n",
        "Имеется геном E.coli в формате fasta ([тут](https://www.ncbi.nlm.nih.gov/nuccore/NC_011750.1?report=fasta)). Найдите два самых частых и самых редких 6-ти мера в геноме бактерии."
      ]
    },
    {
      "cell_type": "code",
      "execution_count": null,
      "id": "d0d8ac27-ee8f-4671-8670-9b57eac3f273",
      "metadata": {
        "id": "d0d8ac27-ee8f-4671-8670-9b57eac3f273"
      },
      "outputs": [],
      "source": [
        "# наш код здесь"
      ]
    },
    {
      "cell_type": "markdown",
      "id": "b370959a-cac6-4bb7-8c87-c422684cef62",
      "metadata": {
        "id": "b370959a-cac6-4bb7-8c87-c422684cef62"
      },
      "source": [
        "### Разбор задач\n",
        "#### Задание 5.6 (Модуль 3)"
      ]
    },
    {
      "cell_type": "code",
      "execution_count": null,
      "id": "6ad37cc9-4441-4d2f-986a-7ba34b3df2f1",
      "metadata": {
        "id": "6ad37cc9-4441-4d2f-986a-7ba34b3df2f1",
        "outputId": "a0590497-8824-467b-df21-e8c7ec78f160"
      },
      "outputs": [
        {
          "name": "stdout",
          "output_type": "stream",
          "text": [
            "Стоимость заказа составила: 8369. С учетом скидки в 5% — 7950.549999999999\n"
          ]
        }
      ],
      "source": [
        "prices = {\n",
        "    'Adidas': 4298,\n",
        "    'Nike': 6550,\n",
        "    'Puma': 4490,\n",
        "    'Asics': 3879\n",
        "}\n",
        "\n",
        "purchases = [\"Puma\", \"Asics\"]\n",
        "\n",
        "purchases_count = len(purchases)\n",
        "\n",
        "if purchases_count == 0:\n",
        "    print('Ваша корзина пуста')\n",
        "\n",
        "elif purchases_count == 1:\n",
        "    my_purchase = purchases[0]  # получаю свой товар из корзины (корзина - список длиной 1)\n",
        "    total = prices[my_purchase]  # по ключу (товару) получаю значение\n",
        "    print(f'Стоимость заказа составила: {total}')\n",
        "\n",
        "else:\n",
        "    if len(set(purchases)) == 1:  # имеем два ОДИНАКОВЫХ товара\n",
        "        my_purchase = purchases[0]  # на самом деле таких два\n",
        "\n",
        "        total_without_sale = prices[my_purchase] * 2  # по ключу (товару) получаю значение, умножаю на 2 (считаю сумму)\n",
        "        total = total_without_sale * 0.9  # учитываю скидку\n",
        "\n",
        "        print(f'Стоимость заказа составила: {total_without_sale}. С учетом скидки в 10% — {total}')\n",
        "\n",
        "    else:  # имеем два РАЗНЫХ товара\n",
        "        my_purchase1 = purchases[0]\n",
        "        my_purchase2 = purchases[1]\n",
        "\n",
        "        total_without_sale = prices[my_purchase1] + prices[my_purchase2]  # по ключам (товарам) получаю значения (2)\n",
        "        total = total_without_sale * 0.95  # учитываю скидку\n",
        "\n",
        "        print(f'Стоимость заказа составила: {total_without_sale}. С учетом скидки в 5% — {total}')"
      ]
    },
    {
      "cell_type": "markdown",
      "id": "025f5aa8-d201-4242-a887-46c94461de4e",
      "metadata": {
        "id": "025f5aa8-d201-4242-a887-46c94461de4e"
      },
      "source": [
        "#### Задание 5.8 (Модуль 3)"
      ]
    },
    {
      "cell_type": "code",
      "execution_count": null,
      "id": "bad9f7b0-b677-4ad8-a6c8-dc984466583e",
      "metadata": {
        "id": "bad9f7b0-b677-4ad8-a6c8-dc984466583e"
      },
      "outputs": [],
      "source": [
        "city_info = \"Москва , не готов к переезду , готов к командировкам\"\n",
        "\n",
        "million_cities = [\n",
        "    'Новосибирск', 'Екатеринбург', 'Нижний Новгород', 'Казань', 'Челябинск', 'Омск', 'Самара', 'Ростов-на-Дону', 'Уфа', 'Красноярск', 'Пермь', 'Воронеж', 'Волгоград'\n",
        "]\n",
        "\n",
        "if city_found == 'Москва':\n",
        "    city = 'Москва'\n",
        "elif city_found == 'Санкт-Петербург':\n",
        "    city = 'Санкт-Петербург'\n",
        "elif city_found in million_cities:\n",
        "    city = 'Город миллионник'\n",
        "else:\n",
        "    city = 'Другое'"
      ]
    },
    {
      "cell_type": "code",
      "execution_count": null,
      "id": "19f20a5e-0ee4-4fe3-a884-53b6527ac91e",
      "metadata": {
        "id": "19f20a5e-0ee4-4fe3-a884-53b6527ac91e",
        "outputId": "1f655fe1-5e0d-468f-fba4-5f0e557de713"
      },
      "outputs": [
        {
          "data": {
            "text/plain": [
              "False"
            ]
          },
          "execution_count": 33,
          "metadata": {},
          "output_type": "execute_result"
        }
      ],
      "source": [
        "0 in [1, 2, 3]"
      ]
    },
    {
      "cell_type": "code",
      "execution_count": null,
      "id": "868f9ce3-b4ac-4d79-b117-2b7e5c602352",
      "metadata": {
        "id": "868f9ce3-b4ac-4d79-b117-2b7e5c602352"
      },
      "outputs": [],
      "source": [
        "purchases = [\"Puma\", \"Adidas\"]"
      ]
    },
    {
      "cell_type": "code",
      "execution_count": null,
      "id": "c60632f6-46f2-474b-95c5-fdced27b3dcf",
      "metadata": {
        "id": "c60632f6-46f2-474b-95c5-fdced27b3dcf",
        "outputId": "38ff06a3-697d-43ec-f0a1-13b11e9d1bee"
      },
      "outputs": [
        {
          "data": {
            "text/plain": [
              "'Puma'"
            ]
          },
          "execution_count": 25,
          "metadata": {},
          "output_type": "execute_result"
        }
      ],
      "source": [
        "purchases[1]"
      ]
    },
    {
      "cell_type": "code",
      "execution_count": null,
      "id": "597632ae-b400-4f2b-b99d-65848e8da586",
      "metadata": {
        "id": "597632ae-b400-4f2b-b99d-65848e8da586",
        "outputId": "c399c16d-613d-4cc8-b597-6ffe031febb2"
      },
      "outputs": [
        {
          "data": {
            "text/plain": [
              "'Nike'"
            ]
          },
          "execution_count": 20,
          "metadata": {},
          "output_type": "execute_result"
        }
      ],
      "source": [
        "['Nike'][0]"
      ]
    },
    {
      "cell_type": "code",
      "execution_count": null,
      "id": "81aef5e7-83ed-45d5-91af-f870136363ef",
      "metadata": {
        "id": "81aef5e7-83ed-45d5-91af-f870136363ef",
        "outputId": "cb56f07c-5f2c-4b68-a08c-01ba9a05a171"
      },
      "outputs": [
        {
          "data": {
            "text/plain": [
              "4298"
            ]
          },
          "execution_count": 19,
          "metadata": {},
          "output_type": "execute_result"
        }
      ],
      "source": [
        "prices[]"
      ]
    },
    {
      "cell_type": "code",
      "execution_count": null,
      "id": "6368fa55-95fd-4845-b38a-c1ae94dd80ee",
      "metadata": {
        "id": "6368fa55-95fd-4845-b38a-c1ae94dd80ee",
        "outputId": "a2c8c16c-ab54-4bf6-901c-6b4eb0a35666"
      },
      "outputs": [
        {
          "data": {
            "text/plain": [
              "'{a} + {b} = {a + b}'"
            ]
          },
          "execution_count": 27,
          "metadata": {},
          "output_type": "execute_result"
        }
      ],
      "source": [
        "a = 10\n",
        "b = 6\n",
        "\n",
        "'{a} + {b} = {a + b}'"
      ]
    },
    {
      "cell_type": "code",
      "execution_count": null,
      "id": "23cad675-2a02-470b-aba3-8ba1505dabc6",
      "metadata": {
        "id": "23cad675-2a02-470b-aba3-8ba1505dabc6",
        "outputId": "4be80e78-a7ca-43bb-e39f-9d8705c29a10"
      },
      "outputs": [
        {
          "name": "stdout",
          "output_type": "stream",
          "text": [
            "16\n"
          ]
        }
      ],
      "source": [
        "a = 10\n",
        "b = 6\n",
        "\n",
        "print(a + b)"
      ]
    },
    {
      "cell_type": "code",
      "execution_count": null,
      "id": "0a51224d-3849-4ea3-aa24-3f62fd98a2b4",
      "metadata": {
        "id": "0a51224d-3849-4ea3-aa24-3f62fd98a2b4",
        "outputId": "80c09328-269e-4d29-9633-7b1bd3a5c7d6"
      },
      "outputs": [
        {
          "data": {
            "text/plain": [
              "'10 + 6 = 16'"
            ]
          },
          "execution_count": 28,
          "metadata": {},
          "output_type": "execute_result"
        }
      ],
      "source": [
        "a = 10\n",
        "b = 6\n",
        "\n",
        "f'{a} + {b} = {a + b}'"
      ]
    },
    {
      "cell_type": "code",
      "execution_count": null,
      "id": "c9cb014e-9a57-437b-81e8-dcab0664f074",
      "metadata": {
        "id": "c9cb014e-9a57-437b-81e8-dcab0664f074",
        "outputId": "0b7553be-d679-4003-8430-8cfd2020d7be"
      },
      "outputs": [
        {
          "name": "stdout",
          "output_type": "stream",
          "text": [
            "1\n"
          ]
        }
      ],
      "source": [
        "if []:\n",
        "    print(1)"
      ]
    },
    {
      "cell_type": "code",
      "execution_count": null,
      "id": "3f3b2d99-2326-4d21-a07a-151a80ea2e75",
      "metadata": {
        "id": "3f3b2d99-2326-4d21-a07a-151a80ea2e75",
        "outputId": "08a64bb1-4431-47ee-ad08-10f5deeb5f1b"
      },
      "outputs": [
        {
          "data": {
            "text/plain": [
              "['Adidas', 'Adidas']"
            ]
          },
          "execution_count": 10,
          "metadata": {},
          "output_type": "execute_result"
        }
      ],
      "source": [
        "[\"Adidas\", \"Adidas\"]"
      ]
    },
    {
      "cell_type": "code",
      "execution_count": null,
      "id": "c4f01347-6de1-46d7-8319-6df66dc70394",
      "metadata": {
        "id": "c4f01347-6de1-46d7-8319-6df66dc70394",
        "outputId": "9e9f0b57-de41-42c1-806c-cd3652b9f983"
      },
      "outputs": [
        {
          "data": {
            "text/plain": [
              "['Nike', 'Adidas']"
            ]
          },
          "execution_count": 11,
          "metadata": {},
          "output_type": "execute_result"
        }
      ],
      "source": [
        "[\"Nike\", \"Adidas\"]"
      ]
    },
    {
      "cell_type": "code",
      "execution_count": null,
      "id": "9152af42-513e-4327-bd7b-01749d987e0e",
      "metadata": {
        "id": "9152af42-513e-4327-bd7b-01749d987e0e",
        "outputId": "e4d89cc2-53b3-4df0-97ba-0a01e1abb83e"
      },
      "outputs": [
        {
          "data": {
            "text/plain": [
              "{'Adidas'}"
            ]
          },
          "execution_count": 12,
          "metadata": {},
          "output_type": "execute_result"
        }
      ],
      "source": [
        "set([\"Adidas\", \"Adidas\"])"
      ]
    },
    {
      "cell_type": "code",
      "execution_count": null,
      "id": "620c3402-2c1e-42b2-b43f-8e36cbff250a",
      "metadata": {
        "id": "620c3402-2c1e-42b2-b43f-8e36cbff250a",
        "outputId": "113039ac-e2ee-463e-977c-623ad4a31356"
      },
      "outputs": [
        {
          "data": {
            "text/plain": [
              "{'Adidas', 'Nike'}"
            ]
          },
          "execution_count": 13,
          "metadata": {},
          "output_type": "execute_result"
        }
      ],
      "source": [
        "set([\"Nike\", \"Adidas\"])"
      ]
    },
    {
      "cell_type": "code",
      "execution_count": null,
      "id": "fd79ce06-4ef3-4f42-af6b-ab5782d30702",
      "metadata": {
        "id": "fd79ce06-4ef3-4f42-af6b-ab5782d30702",
        "outputId": "ef9395d9-fd7f-4e4c-9775-8148a3699300"
      },
      "outputs": [
        {
          "data": {
            "text/plain": [
              "{'Adidas'}"
            ]
          },
          "execution_count": 9,
          "metadata": {},
          "output_type": "execute_result"
        }
      ],
      "source": [
        "set(purchases)"
      ]
    }
  ],
  "metadata": {
    "kernelspec": {
      "display_name": "Python 3 (ipykernel)",
      "language": "python",
      "name": "python3"
    },
    "language_info": {
      "codemirror_mode": {
        "name": "ipython",
        "version": 3
      },
      "file_extension": ".py",
      "mimetype": "text/x-python",
      "name": "python",
      "nbconvert_exporter": "python",
      "pygments_lexer": "ipython3",
      "version": "3.11.6"
    },
    "colab": {
      "provenance": [],
      "include_colab_link": true
    }
  },
  "nbformat": 4,
  "nbformat_minor": 5
}