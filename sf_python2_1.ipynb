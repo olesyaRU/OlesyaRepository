{
  "cells": [
    {
      "cell_type": "markdown",
      "metadata": {
        "id": "view-in-github",
        "colab_type": "text"
      },
      "source": [
        "<a href=\"https://colab.research.google.com/github/olesyaRU/OlesyaRepository/blob/main/sf_python2_1.ipynb\" target=\"_parent\"><img src=\"https://colab.research.google.com/assets/colab-badge.svg\" alt=\"Open In Colab\"/></a>"
      ]
    },
    {
      "cell_type": "markdown",
      "id": "87dec23c",
      "metadata": {
        "id": "87dec23c"
      },
      "source": [
        "# Программирование на Python\n",
        "## Семинар 2. Погружение в типы данных\n",
        "#### Задача 1\n",
        "На вход подается предложение. Удалите из него специальные символы (',', '.', ';', '!', '?') и выведите для пользователя количество уникальных слов. Регистр букв не должен влиять на результат."
      ]
    },
    {
      "cell_type": "code",
      "execution_count": null,
      "id": "90a0a3ab",
      "metadata": {
        "id": "90a0a3ab",
        "outputId": "a82efea4-9b38-439f-814f-56b5af807c1a"
      },
      "outputs": [
        {
          "name": "stdin",
          "output_type": "stream",
          "text": [
            " 111, 55555; 55555\n"
          ]
        },
        {
          "name": "stdout",
          "output_type": "stream",
          "text": [
            "2\n"
          ]
        }
      ],
      "source": [
        "sentence = input().lower()\n",
        "\n",
        "sentence_clean = sentence.replace(',', '').replace('.', '').replace(';', '').replace('!', '').replace('?', '')\n",
        "\n",
        "sentence_words = set(sentence_clean.split())\n",
        "\n",
        "print(len(sentence_words))"
      ]
    },
    {
      "cell_type": "code",
      "execution_count": null,
      "id": "68f3794e-040f-4aea-bd5b-6136c360cd76",
      "metadata": {
        "id": "68f3794e-040f-4aea-bd5b-6136c360cd76",
        "outputId": "7eb7ed41-0b2e-4ace-ff40-e3f66f2287a3"
      },
      "outputs": [
        {
          "data": {
            "text/plain": [
              "{'word', 'word2'}"
            ]
          },
          "execution_count": 7,
          "metadata": {},
          "output_type": "execute_result"
        }
      ],
      "source": [
        "set(['word', 'word2', 'word2'])"
      ]
    },
    {
      "cell_type": "code",
      "execution_count": null,
      "id": "477227db-4aaf-4ed3-9617-f146c8c286e9",
      "metadata": {
        "id": "477227db-4aaf-4ed3-9617-f146c8c286e9",
        "outputId": "3fda9b78-9d78-4bbb-e1a4-f1e3243cc91a"
      },
      "outputs": [
        {
          "data": {
            "text/plain": [
              "['8', '8']"
            ]
          },
          "execution_count": 1,
          "metadata": {},
          "output_type": "execute_result"
        }
      ],
      "source": [
        "'8   8'.split()"
      ]
    },
    {
      "cell_type": "code",
      "execution_count": null,
      "id": "1b8c7a53-f5ca-492d-a7f9-d280edb3d57e",
      "metadata": {
        "id": "1b8c7a53-f5ca-492d-a7f9-d280edb3d57e",
        "outputId": "a45edc56-ffb8-4c36-99ef-268f2011dfc6"
      },
      "outputs": [
        {
          "data": {
            "text/plain": [
              "['8', '8']"
            ]
          },
          "execution_count": 3,
          "metadata": {},
          "output_type": "execute_result"
        }
      ],
      "source": [
        "'8   8'.split(sep=None)"
      ]
    },
    {
      "cell_type": "code",
      "execution_count": null,
      "id": "30a88052-6a8c-4b3d-9a3c-aa4da2520bed",
      "metadata": {
        "id": "30a88052-6a8c-4b3d-9a3c-aa4da2520bed",
        "outputId": "15f91214-3b7b-459f-cd8c-6684d1b7c6cf"
      },
      "outputs": [
        {
          "data": {
            "text/plain": [
              "['8', '', '', '8']"
            ]
          },
          "execution_count": 2,
          "metadata": {},
          "output_type": "execute_result"
        }
      ],
      "source": [
        "'8   8'.split(sep=' ')"
      ]
    },
    {
      "cell_type": "code",
      "execution_count": null,
      "id": "61f1c5c5-8115-4c06-b18c-7b6d42614193",
      "metadata": {
        "id": "61f1c5c5-8115-4c06-b18c-7b6d42614193",
        "outputId": "016dfac5-f9e7-4d8e-8022-9087cd127468"
      },
      "outputs": [
        {
          "data": {
            "text/plain": [
              "\u001b[0;31mSignature:\u001b[0m \u001b[0mstr\u001b[0m\u001b[0;34m.\u001b[0m\u001b[0msplit\u001b[0m\u001b[0;34m(\u001b[0m\u001b[0mself\u001b[0m\u001b[0;34m,\u001b[0m \u001b[0;34m/\u001b[0m\u001b[0;34m,\u001b[0m \u001b[0msep\u001b[0m\u001b[0;34m=\u001b[0m\u001b[0;32mNone\u001b[0m\u001b[0;34m,\u001b[0m \u001b[0mmaxsplit\u001b[0m\u001b[0;34m=\u001b[0m\u001b[0;34m-\u001b[0m\u001b[0;36m1\u001b[0m\u001b[0;34m)\u001b[0m\u001b[0;34m\u001b[0m\u001b[0;34m\u001b[0m\u001b[0m\n",
              "\u001b[0;31mDocstring:\u001b[0m\n",
              "Return a list of the substrings in the string, using sep as the separator string.\n",
              "\n",
              "  sep\n",
              "    The separator used to split the string.\n",
              "\n",
              "    When set to None (the default value), will split on any whitespace\n",
              "    character (including \\n \\r \\t \\f and spaces) and will discard\n",
              "    empty strings from the result.\n",
              "  maxsplit\n",
              "    Maximum number of splits (starting from the left).\n",
              "    -1 (the default value) means no limit.\n",
              "\n",
              "Note, str.split() is mainly useful for data that has been intentionally\n",
              "delimited.  With natural text that includes punctuation, consider using\n",
              "the regular expression module.\n",
              "\u001b[0;31mType:\u001b[0m      method_descriptor"
            ]
          },
          "metadata": {},
          "output_type": "display_data"
        }
      ],
      "source": [
        "?str.split"
      ]
    },
    {
      "cell_type": "markdown",
      "id": "c384bd56",
      "metadata": {
        "id": "c384bd56"
      },
      "source": [
        "#### Задача 2\n",
        "\n",
        "Дана строка, в которой буква h встречается как минимум два раза. Разверните последовательность символов, заключенную между первым и последним появлением буквы h, в противоположном порядке (при этом остальную часть строки оставить неизменной).\n",
        "\n",
        "`jahafdhi` -> `jahdfahi`\n",
        "\n",
        "Вариант 1"
      ]
    },
    {
      "cell_type": "code",
      "execution_count": null,
      "id": "70ea4d29-3045-4a31-bf8e-ff3f92de0582",
      "metadata": {
        "id": "70ea4d29-3045-4a31-bf8e-ff3f92de0582",
        "outputId": "bcf5be96-66a5-4534-942d-426bea743cc6"
      },
      "outputs": [
        {
          "name": "stdout",
          "output_type": "stream",
          "text": [
            "jahdfhahi\n"
          ]
        }
      ],
      "source": [
        "string = 'jahahfdhi'\n",
        "\n",
        "start_index = string.find('h') + 1\n",
        "finish_index = string.rfind('h')\n",
        "\n",
        "middle = string[start_index:finish_index][::-1]\n",
        "left_part = string[:start_index]\n",
        "right_part = string[finish_index:]\n",
        "\n",
        "print(left_part + middle + right_part)"
      ]
    },
    {
      "cell_type": "code",
      "execution_count": null,
      "id": "c5a30999-7b54-4958-a0ca-a7fa4cf91873",
      "metadata": {
        "id": "c5a30999-7b54-4958-a0ca-a7fa4cf91873",
        "outputId": "e700b969-cce0-402c-8b5d-957dcd7154bd"
      },
      "outputs": [
        {
          "name": "stdout",
          "output_type": "stream",
          "text": [
            "jahdfhahi\n"
          ]
        }
      ],
      "source": [
        "print(left_part, middle, right_part, sep='')"
      ]
    },
    {
      "cell_type": "markdown",
      "id": "cacef5de-35ce-40bc-9559-131360b1f457",
      "metadata": {
        "id": "cacef5de-35ce-40bc-9559-131360b1f457"
      },
      "source": [
        "Вариант 2"
      ]
    },
    {
      "cell_type": "code",
      "execution_count": null,
      "id": "00d7b322-b507-4170-ae0f-ed6709bee266",
      "metadata": {
        "id": "00d7b322-b507-4170-ae0f-ed6709bee266",
        "outputId": "86c7f6a8-332a-4793-9849-550989dd73a7"
      },
      "outputs": [
        {
          "name": "stdout",
          "output_type": "stream",
          "text": [
            "jahdfhahi\n"
          ]
        }
      ],
      "source": [
        "string = 'jahahfdhi'\n",
        "\n",
        "start_index = string.find('h')\n",
        "finish_index = string.rfind('h') - 1\n",
        "\n",
        "middle = string[finish_index:start_index:-1]\n",
        "left_part = string[:(start_index + 1)]\n",
        "right_part = string[(finish_index + 1):]\n",
        "\n",
        "print(left_part + middle + right_part)"
      ]
    },
    {
      "cell_type": "markdown",
      "id": "fbdd28ca-d50c-40f9-9034-1dc59812de08",
      "metadata": {
        "id": "fbdd28ca-d50c-40f9-9034-1dc59812de08"
      },
      "source": [
        "Вариант 3"
      ]
    },
    {
      "cell_type": "code",
      "execution_count": null,
      "id": "c2ab63bc-c153-4b1f-a44c-2af321afe618",
      "metadata": {
        "id": "c2ab63bc-c153-4b1f-a44c-2af321afe618"
      },
      "outputs": [],
      "source": [
        "string = 'jahahfdhi'\n",
        "\n",
        "start_index = string.find('h') + 1\n",
        "finish_index = string.rfind('h')\n",
        "\n",
        "middle = string[start_index:finish_index]\n",
        "middle = ''.join(list(reversed(middle)))\n",
        "\n",
        "left_part = string[:start_index]\n",
        "right_part = string[finish_index:]\n",
        "\n",
        "print(left_part + middle + right_part)"
      ]
    },
    {
      "cell_type": "markdown",
      "id": "c1fbd351-7f48-4bf9-a0c6-07a63cc63391",
      "metadata": {
        "id": "c1fbd351-7f48-4bf9-a0c6-07a63cc63391"
      },
      "source": [
        "Вариант 4"
      ]
    },
    {
      "cell_type": "code",
      "execution_count": null,
      "id": "8a824a1a-2b0d-4e5a-b01b-581688d41a5b",
      "metadata": {
        "id": "8a824a1a-2b0d-4e5a-b01b-581688d41a5b"
      },
      "outputs": [],
      "source": [
        "string = 'jahahfdhi'\n",
        "\n",
        "start_index = string.find('h') + 1\n",
        "finish_index = len(string) - string[::-1].rfind('h') - 1\n",
        "\n",
        "middle = string[start_index:finish_index][::-1]\n",
        "left_part = string[:start_index]\n",
        "right_part = string[finish_index:]\n",
        "\n",
        "print(left_part + middle + right_part)"
      ]
    },
    {
      "cell_type": "code",
      "execution_count": null,
      "id": "90f4b61a-06bb-4ad6-a9b8-6852ff11cdd2",
      "metadata": {
        "id": "90f4b61a-06bb-4ad6-a9b8-6852ff11cdd2",
        "outputId": "acf1791b-716e-4f09-be70-591d624d605e"
      },
      "outputs": [
        {
          "data": {
            "text/plain": [
              "\u001b[0;31mDocstring:\u001b[0m\n",
              "S.find(sub[, start[, end]]) -> int\n",
              "\n",
              "Return the lowest index in S where substring sub is found,\n",
              "such that sub is contained within S[start:end].  Optional\n",
              "arguments start and end are interpreted as in slice notation.\n",
              "\n",
              "Return -1 on failure.\n",
              "\u001b[0;31mType:\u001b[0m      method_descriptor"
            ]
          },
          "metadata": {},
          "output_type": "display_data"
        }
      ],
      "source": [
        "?str.find"
      ]
    },
    {
      "cell_type": "code",
      "execution_count": null,
      "id": "c6d53d2d-6e95-4453-bb75-a252a479b64e",
      "metadata": {
        "id": "c6d53d2d-6e95-4453-bb75-a252a479b64e",
        "outputId": "68bd07cb-8be1-4035-f87c-d223f178fa11"
      },
      "outputs": [
        {
          "data": {
            "text/plain": [
              "'ahfd'"
            ]
          },
          "execution_count": 36,
          "metadata": {},
          "output_type": "execute_result"
        }
      ],
      "source": [
        "middle"
      ]
    },
    {
      "cell_type": "code",
      "execution_count": null,
      "id": "2974f31e-1457-4197-b0ea-0efbd41d8b30",
      "metadata": {
        "id": "2974f31e-1457-4197-b0ea-0efbd41d8b30",
        "outputId": "079570d7-b4cf-42ac-9d37-cfc37da07543"
      },
      "outputs": [
        {
          "data": {
            "text/plain": [
              "4"
            ]
          },
          "execution_count": 53,
          "metadata": {},
          "output_type": "execute_result"
        }
      ],
      "source": [
        "len(middle)"
      ]
    },
    {
      "cell_type": "code",
      "execution_count": null,
      "id": "32e33648-66b9-4ad2-9149-147c240d030f",
      "metadata": {
        "id": "32e33648-66b9-4ad2-9149-147c240d030f",
        "outputId": "04a4a7a4-5d82-45af-d438-2ddd824b2fa9"
      },
      "outputs": [
        {
          "data": {
            "text/plain": [
              "<reversed at 0x110d41b70>"
            ]
          },
          "execution_count": 39,
          "metadata": {},
          "output_type": "execute_result"
        }
      ],
      "source": [
        "reversed(middle)"
      ]
    },
    {
      "cell_type": "code",
      "execution_count": null,
      "id": "91ff3d80-88d5-4017-b046-1e2c4493ab69",
      "metadata": {
        "id": "91ff3d80-88d5-4017-b046-1e2c4493ab69",
        "outputId": "d3fbe5c5-0050-4b5a-c872-8e9f8034d3d7"
      },
      "outputs": [
        {
          "data": {
            "text/plain": [
              "['d', 'f', 'h', 'a']"
            ]
          },
          "execution_count": 42,
          "metadata": {},
          "output_type": "execute_result"
        }
      ],
      "source": [
        "list(reversed(middle))"
      ]
    },
    {
      "cell_type": "code",
      "execution_count": null,
      "id": "27ac4ff2-1431-46da-8ebb-77d400a27fb8",
      "metadata": {
        "id": "27ac4ff2-1431-46da-8ebb-77d400a27fb8",
        "outputId": "3402cfed-e07d-4e20-945b-64262057dc94"
      },
      "outputs": [
        {
          "data": {
            "text/plain": [
              "('d', 'f', 'h', 'a')"
            ]
          },
          "execution_count": 52,
          "metadata": {},
          "output_type": "execute_result"
        }
      ],
      "source": [
        "tuple(reversed(middle))"
      ]
    },
    {
      "cell_type": "code",
      "execution_count": null,
      "id": "d70c1ee5-7fda-4628-b966-75ce4afc873f",
      "metadata": {
        "id": "d70c1ee5-7fda-4628-b966-75ce4afc873f",
        "outputId": "7ac65121-5f32-4f63-8f0e-2c89ca4ab1e9"
      },
      "outputs": [
        {
          "data": {
            "text/plain": [
              "'1;2;3'"
            ]
          },
          "execution_count": 48,
          "metadata": {},
          "output_type": "execute_result"
        }
      ],
      "source": [
        "';'.join('1,2,3'.split(','))"
      ]
    },
    {
      "cell_type": "code",
      "execution_count": null,
      "id": "223e6da9-10d0-4f18-b825-94ba575c91d6",
      "metadata": {
        "id": "223e6da9-10d0-4f18-b825-94ba575c91d6",
        "outputId": "e1811ae5-d04b-4679-d098-40600da4241f"
      },
      "outputs": [
        {
          "data": {
            "text/plain": [
              "'d                    f                    h                    a'"
            ]
          },
          "execution_count": 51,
          "metadata": {},
          "output_type": "execute_result"
        }
      ],
      "source": [
        "' '.join(list(reversed(middle)))"
      ]
    },
    {
      "cell_type": "code",
      "execution_count": null,
      "id": "99fdee3c-4d9f-4113-9cde-dde3d5242fa2",
      "metadata": {
        "id": "99fdee3c-4d9f-4113-9cde-dde3d5242fa2",
        "outputId": "ca703b0c-8348-4cd4-d562-c86072a4012b"
      },
      "outputs": [
        {
          "data": {
            "text/plain": [
              "\u001b[0;31mDocstring:\u001b[0m\n",
              "S.rfind(sub[, start[, end]]) -> int\n",
              "\n",
              "Return the highest index in S where substring sub is found,\n",
              "such that sub is contained within S[start:end].  Optional\n",
              "arguments start and end are interpreted as in slice notation.\n",
              "\n",
              "Return -1 on failure.\n",
              "\u001b[0;31mType:\u001b[0m      method_descriptor"
            ]
          },
          "metadata": {},
          "output_type": "display_data"
        }
      ],
      "source": [
        "?str.rfind"
      ]
    },
    {
      "cell_type": "markdown",
      "id": "0816928b-92bd-48e3-836f-02b79f5c76f2",
      "metadata": {
        "id": "0816928b-92bd-48e3-836f-02b79f5c76f2"
      },
      "source": [
        "#### Задача 3\n",
        "Напишите программу, которая принимает на вход слово на русском языке и проверяет, является ли оно палиндромом (если палиндром - сообщение пользователю, то же самое в ином случае). Case буквы не должен влиять на результат."
      ]
    },
    {
      "cell_type": "code",
      "execution_count": null,
      "id": "eb8d20dd-599e-4a2c-bd4b-1e6a379dd2ba",
      "metadata": {
        "id": "eb8d20dd-599e-4a2c-bd4b-1e6a379dd2ba"
      },
      "outputs": [],
      "source": [
        "# наш код здесь"
      ]
    },
    {
      "cell_type": "markdown",
      "id": "bf8372e2-231d-4841-8ecc-056898fff8fe",
      "metadata": {
        "id": "bf8372e2-231d-4841-8ecc-056898fff8fe"
      },
      "source": [
        "#### Задача 4\n",
        "Мы имеем словарь, в котором ключами являются идентификаторы испытуемых, а значениями - показатели датчиков за 10 дней. Нужно получить такой же словарь, но с числами (или с нулем вместо `'error'`)."
      ]
    },
    {
      "cell_type": "code",
      "execution_count": null,
      "id": "3ecc18b4-bb0a-48f0-9616-861312bc5c92",
      "metadata": {
        "id": "3ecc18b4-bb0a-48f0-9616-861312bc5c92"
      },
      "outputs": [],
      "source": [
        "data = {\n",
        "    'patient1': ['-2.47', '10.414', '-20.147', '71.253', '6.184', '18.686', '14.767', '8.407', '49.355', '17.055'],\n",
        "    'patient2': ['-11.368', '71.067', '-31.519', 'error', '12.197', '-23.183', '28.052', '21.437', '19.261', '67.036'],\n",
        "    'patient3': ['-44.866', '-42.591', '32.409', '62.916', '23.356', 'error', '-52.277', '-20.885', '21.307', '10.846'],\n",
        "    'patient4': ['-50.765', 'error', '-26.627', 'error', '6.523', '11.412', 'error', '40.828', '-21.127', '-11.693'],\n",
        "    'patient5': ['5.076', '91.697', '-47.169', '-21.875', '-52.227', '20.551', '30.118', '-0.114', '25.138', '-21.818'],\n",
        "    'patient6': ['-15.347', '-27.504', '-33.92', '-45.092', '-23.837', '-15.655', '-43.795', '30.521', '68.682', '18.174'],\n",
        "    'patient7': ['4.825', '-22.918', 'error', '16.429', 'error', '15.604', '-27.403', 'error', '7.14', '26.587']\n",
        "}\n",
        "\n",
        "# наш код здесь"
      ]
    },
    {
      "cell_type": "markdown",
      "id": "c64fe841-f057-4a85-9b65-ed377193bc9a",
      "metadata": {
        "id": "c64fe841-f057-4a85-9b65-ed377193bc9a"
      },
      "source": [
        "#### Задача 5\n",
        "Имеется геном E.coli в формате fasta ([тут](https://www.ncbi.nlm.nih.gov/nuccore/NC_011750.1?report=fasta)). Найдите два самых частых и самых редких 6-ти мера в геноме бактерии."
      ]
    },
    {
      "cell_type": "code",
      "execution_count": null,
      "id": "d0d8ac27-ee8f-4671-8670-9b57eac3f273",
      "metadata": {
        "id": "d0d8ac27-ee8f-4671-8670-9b57eac3f273"
      },
      "outputs": [],
      "source": [
        "# наш код здесь"
      ]
    }
  ],
  "metadata": {
    "kernelspec": {
      "display_name": "Python 3 (ipykernel)",
      "language": "python",
      "name": "python3"
    },
    "language_info": {
      "codemirror_mode": {
        "name": "ipython",
        "version": 3
      },
      "file_extension": ".py",
      "mimetype": "text/x-python",
      "name": "python",
      "nbconvert_exporter": "python",
      "pygments_lexer": "ipython3",
      "version": "3.11.6"
    },
    "colab": {
      "provenance": [],
      "include_colab_link": true
    }
  },
  "nbformat": 4,
  "nbformat_minor": 5
}